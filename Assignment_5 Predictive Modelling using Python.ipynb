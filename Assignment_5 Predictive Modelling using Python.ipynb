{
 "cells": [
  {
   "cell_type": "code",
   "execution_count": 1,
   "id": "18506445-4694-421b-b099-bdfe11054a66",
   "metadata": {},
   "outputs": [],
   "source": [
    "import pandas as pd"
   ]
  },
  {
   "cell_type": "code",
   "execution_count": 3,
   "id": "105daf0f-94ef-446c-8f27-2c62777fe011",
   "metadata": {},
   "outputs": [],
   "source": [
    "import numpy as np"
   ]
  },
  {
   "cell_type": "code",
   "execution_count": 5,
   "id": "41882b4a-c681-4158-9d77-749d4495e113",
   "metadata": {},
   "outputs": [],
   "source": [
    "from sklearn.model_selection import train_test_split"
   ]
  },
  {
   "cell_type": "code",
   "execution_count": 7,
   "id": "ce6ef4e8-d9c1-4954-b182-6185736ae27f",
   "metadata": {},
   "outputs": [],
   "source": [
    "from sklearn.linear_model import LinearRegression\n",
    "from sklearn.metrics import mean_squared_error\n",
    "import matplotlib.pyplot as plt\n",
    "import seaborn as sns\n",
    "import statsmodels.api as sm\n",
    "from statsmodels.stats.outliers_influence import variance_inflation_factor\n",
    "from scipy.stats import shapiro\n",
    "from statsmodels.stats.diagnostic import het_breuschpagan"
   ]
  },
  {
   "cell_type": "code",
   "execution_count": 13,
   "id": "d9c83cfb-cad9-4d06-afe4-60f3b648f3c6",
   "metadata": {},
   "outputs": [],
   "source": [
    "house_data = pd.read_csv(\"House Price Data.csv\")"
   ]
  },
  {
   "cell_type": "code",
   "execution_count": 15,
   "id": "dadbbac0-e23d-4cec-bd43-3de216927bc6",
   "metadata": {},
   "outputs": [
    {
     "name": "stdout",
     "output_type": "stream",
     "text": [
      "1. Data Structure:\n"
     ]
    }
   ],
   "source": [
    "print(\"1. Data Structure:\")"
   ]
  },
  {
   "cell_type": "code",
   "execution_count": 17,
   "id": "883b9121-acd3-46e9-8fb5-7d8b0f32d0a9",
   "metadata": {},
   "outputs": [
    {
     "name": "stdout",
     "output_type": "stream",
     "text": [
      "<class 'pandas.core.frame.DataFrame'>\n",
      "RangeIndex: 198 entries, 0 to 197\n",
      "Data columns (total 5 columns):\n",
      " #   Column    Non-Null Count  Dtype  \n",
      "---  ------    --------------  -----  \n",
      " 0   Houseid   198 non-null    int64  \n",
      " 1   Price     198 non-null    float64\n",
      " 2   Area      198 non-null    int64  \n",
      " 3   Distance  198 non-null    float64\n",
      " 4   Schools   198 non-null    int64  \n",
      "dtypes: float64(2), int64(3)\n",
      "memory usage: 7.9 KB\n",
      "None\n"
     ]
    }
   ],
   "source": [
    "print(house_data.info())"
   ]
  },
  {
   "cell_type": "code",
   "execution_count": 19,
   "id": "20855d48-50d2-4965-8e6d-f7d65ef28f01",
   "metadata": {},
   "outputs": [
    {
     "name": "stdout",
     "output_type": "stream",
     "text": [
      "\n",
      "First 5 rows of the data:\n"
     ]
    }
   ],
   "source": [
    "print(\"\\nFirst 5 rows of the data:\")"
   ]
  },
  {
   "cell_type": "code",
   "execution_count": 21,
   "id": "35b6f1a2-764c-442d-9cf4-486f4951aa6f",
   "metadata": {},
   "outputs": [
    {
     "name": "stdout",
     "output_type": "stream",
     "text": [
      "   Houseid  Price  Area  Distance  Schools\n",
      "0        1  24.74  1036      3.22        2\n",
      "1        2  20.15  1030      4.33        3\n",
      "2        3  25.98  1046      1.94        3\n",
      "3        4  20.10   950      2.45        2\n",
      "4        5  23.03   952      2.47        2\n"
     ]
    }
   ],
   "source": [
    "print(house_data.head())"
   ]
  },
  {
   "cell_type": "code",
   "execution_count": 25,
   "id": "2b24a376-1f6f-4f69-8b9b-a0c12eb0ebaf",
   "metadata": {},
   "outputs": [],
   "source": [
    "X = house_data[[\"Area\", \"Distance\", \"Schools\"]]"
   ]
  },
  {
   "cell_type": "code",
   "execution_count": 27,
   "id": "993ad9b5-0e63-47af-a53b-773725e2b839",
   "metadata": {},
   "outputs": [],
   "source": [
    "y = house_data[\"Price\"] "
   ]
  },
  {
   "cell_type": "code",
   "execution_count": 29,
   "id": "e55e9c90-f460-4a0c-b310-373e75f3f575",
   "metadata": {},
   "outputs": [],
   "source": [
    "X_train, X_test, y_train, y_test = train_test_split(X, y, test_size=0.2, random_state=42)  # 80/20 split"
   ]
  },
  {
   "cell_type": "code",
   "execution_count": 31,
   "id": "f63d9b73-3e8d-4e21-967a-f6dba815625c",
   "metadata": {},
   "outputs": [
    {
     "name": "stdout",
     "output_type": "stream",
     "text": [
      "\n",
      "2. Training and Testing Data Sizes:\n",
      "Training set size: 158\n",
      "Testing set size: 40\n"
     ]
    }
   ],
   "source": [
    "print(\"\\n2. Training and Testing Data Sizes:\")\n",
    "print(f\"Training set size: {len(X_train)}\")\n",
    "print(f\"Testing set size: {len(X_test)}\")"
   ]
  },
  {
   "cell_type": "code",
   "execution_count": 33,
   "id": "32c7ae8d-7a93-41f2-b64e-d4030a23b0a3",
   "metadata": {},
   "outputs": [],
   "source": [
    "model = LinearRegression()"
   ]
  },
  {
   "cell_type": "code",
   "execution_count": 37,
   "id": "bd4e0ba7-2458-46c7-b3e4-b5acfdcb66f3",
   "metadata": {},
   "outputs": [
    {
     "data": {
      "text/html": [
       "<style>#sk-container-id-2 {\n",
       "  /* Definition of color scheme common for light and dark mode */\n",
       "  --sklearn-color-text: black;\n",
       "  --sklearn-color-line: gray;\n",
       "  /* Definition of color scheme for unfitted estimators */\n",
       "  --sklearn-color-unfitted-level-0: #fff5e6;\n",
       "  --sklearn-color-unfitted-level-1: #f6e4d2;\n",
       "  --sklearn-color-unfitted-level-2: #ffe0b3;\n",
       "  --sklearn-color-unfitted-level-3: chocolate;\n",
       "  /* Definition of color scheme for fitted estimators */\n",
       "  --sklearn-color-fitted-level-0: #f0f8ff;\n",
       "  --sklearn-color-fitted-level-1: #d4ebff;\n",
       "  --sklearn-color-fitted-level-2: #b3dbfd;\n",
       "  --sklearn-color-fitted-level-3: cornflowerblue;\n",
       "\n",
       "  /* Specific color for light theme */\n",
       "  --sklearn-color-text-on-default-background: var(--sg-text-color, var(--theme-code-foreground, var(--jp-content-font-color1, black)));\n",
       "  --sklearn-color-background: var(--sg-background-color, var(--theme-background, var(--jp-layout-color0, white)));\n",
       "  --sklearn-color-border-box: var(--sg-text-color, var(--theme-code-foreground, var(--jp-content-font-color1, black)));\n",
       "  --sklearn-color-icon: #696969;\n",
       "\n",
       "  @media (prefers-color-scheme: dark) {\n",
       "    /* Redefinition of color scheme for dark theme */\n",
       "    --sklearn-color-text-on-default-background: var(--sg-text-color, var(--theme-code-foreground, var(--jp-content-font-color1, white)));\n",
       "    --sklearn-color-background: var(--sg-background-color, var(--theme-background, var(--jp-layout-color0, #111)));\n",
       "    --sklearn-color-border-box: var(--sg-text-color, var(--theme-code-foreground, var(--jp-content-font-color1, white)));\n",
       "    --sklearn-color-icon: #878787;\n",
       "  }\n",
       "}\n",
       "\n",
       "#sk-container-id-2 {\n",
       "  color: var(--sklearn-color-text);\n",
       "}\n",
       "\n",
       "#sk-container-id-2 pre {\n",
       "  padding: 0;\n",
       "}\n",
       "\n",
       "#sk-container-id-2 input.sk-hidden--visually {\n",
       "  border: 0;\n",
       "  clip: rect(1px 1px 1px 1px);\n",
       "  clip: rect(1px, 1px, 1px, 1px);\n",
       "  height: 1px;\n",
       "  margin: -1px;\n",
       "  overflow: hidden;\n",
       "  padding: 0;\n",
       "  position: absolute;\n",
       "  width: 1px;\n",
       "}\n",
       "\n",
       "#sk-container-id-2 div.sk-dashed-wrapped {\n",
       "  border: 1px dashed var(--sklearn-color-line);\n",
       "  margin: 0 0.4em 0.5em 0.4em;\n",
       "  box-sizing: border-box;\n",
       "  padding-bottom: 0.4em;\n",
       "  background-color: var(--sklearn-color-background);\n",
       "}\n",
       "\n",
       "#sk-container-id-2 div.sk-container {\n",
       "  /* jupyter's `normalize.less` sets `[hidden] { display: none; }`\n",
       "     but bootstrap.min.css set `[hidden] { display: none !important; }`\n",
       "     so we also need the `!important` here to be able to override the\n",
       "     default hidden behavior on the sphinx rendered scikit-learn.org.\n",
       "     See: https://github.com/scikit-learn/scikit-learn/issues/21755 */\n",
       "  display: inline-block !important;\n",
       "  position: relative;\n",
       "}\n",
       "\n",
       "#sk-container-id-2 div.sk-text-repr-fallback {\n",
       "  display: none;\n",
       "}\n",
       "\n",
       "div.sk-parallel-item,\n",
       "div.sk-serial,\n",
       "div.sk-item {\n",
       "  /* draw centered vertical line to link estimators */\n",
       "  background-image: linear-gradient(var(--sklearn-color-text-on-default-background), var(--sklearn-color-text-on-default-background));\n",
       "  background-size: 2px 100%;\n",
       "  background-repeat: no-repeat;\n",
       "  background-position: center center;\n",
       "}\n",
       "\n",
       "/* Parallel-specific style estimator block */\n",
       "\n",
       "#sk-container-id-2 div.sk-parallel-item::after {\n",
       "  content: \"\";\n",
       "  width: 100%;\n",
       "  border-bottom: 2px solid var(--sklearn-color-text-on-default-background);\n",
       "  flex-grow: 1;\n",
       "}\n",
       "\n",
       "#sk-container-id-2 div.sk-parallel {\n",
       "  display: flex;\n",
       "  align-items: stretch;\n",
       "  justify-content: center;\n",
       "  background-color: var(--sklearn-color-background);\n",
       "  position: relative;\n",
       "}\n",
       "\n",
       "#sk-container-id-2 div.sk-parallel-item {\n",
       "  display: flex;\n",
       "  flex-direction: column;\n",
       "}\n",
       "\n",
       "#sk-container-id-2 div.sk-parallel-item:first-child::after {\n",
       "  align-self: flex-end;\n",
       "  width: 50%;\n",
       "}\n",
       "\n",
       "#sk-container-id-2 div.sk-parallel-item:last-child::after {\n",
       "  align-self: flex-start;\n",
       "  width: 50%;\n",
       "}\n",
       "\n",
       "#sk-container-id-2 div.sk-parallel-item:only-child::after {\n",
       "  width: 0;\n",
       "}\n",
       "\n",
       "/* Serial-specific style estimator block */\n",
       "\n",
       "#sk-container-id-2 div.sk-serial {\n",
       "  display: flex;\n",
       "  flex-direction: column;\n",
       "  align-items: center;\n",
       "  background-color: var(--sklearn-color-background);\n",
       "  padding-right: 1em;\n",
       "  padding-left: 1em;\n",
       "}\n",
       "\n",
       "\n",
       "/* Toggleable style: style used for estimator/Pipeline/ColumnTransformer box that is\n",
       "clickable and can be expanded/collapsed.\n",
       "- Pipeline and ColumnTransformer use this feature and define the default style\n",
       "- Estimators will overwrite some part of the style using the `sk-estimator` class\n",
       "*/\n",
       "\n",
       "/* Pipeline and ColumnTransformer style (default) */\n",
       "\n",
       "#sk-container-id-2 div.sk-toggleable {\n",
       "  /* Default theme specific background. It is overwritten whether we have a\n",
       "  specific estimator or a Pipeline/ColumnTransformer */\n",
       "  background-color: var(--sklearn-color-background);\n",
       "}\n",
       "\n",
       "/* Toggleable label */\n",
       "#sk-container-id-2 label.sk-toggleable__label {\n",
       "  cursor: pointer;\n",
       "  display: block;\n",
       "  width: 100%;\n",
       "  margin-bottom: 0;\n",
       "  padding: 0.5em;\n",
       "  box-sizing: border-box;\n",
       "  text-align: center;\n",
       "}\n",
       "\n",
       "#sk-container-id-2 label.sk-toggleable__label-arrow:before {\n",
       "  /* Arrow on the left of the label */\n",
       "  content: \"▸\";\n",
       "  float: left;\n",
       "  margin-right: 0.25em;\n",
       "  color: var(--sklearn-color-icon);\n",
       "}\n",
       "\n",
       "#sk-container-id-2 label.sk-toggleable__label-arrow:hover:before {\n",
       "  color: var(--sklearn-color-text);\n",
       "}\n",
       "\n",
       "/* Toggleable content - dropdown */\n",
       "\n",
       "#sk-container-id-2 div.sk-toggleable__content {\n",
       "  max-height: 0;\n",
       "  max-width: 0;\n",
       "  overflow: hidden;\n",
       "  text-align: left;\n",
       "  /* unfitted */\n",
       "  background-color: var(--sklearn-color-unfitted-level-0);\n",
       "}\n",
       "\n",
       "#sk-container-id-2 div.sk-toggleable__content.fitted {\n",
       "  /* fitted */\n",
       "  background-color: var(--sklearn-color-fitted-level-0);\n",
       "}\n",
       "\n",
       "#sk-container-id-2 div.sk-toggleable__content pre {\n",
       "  margin: 0.2em;\n",
       "  border-radius: 0.25em;\n",
       "  color: var(--sklearn-color-text);\n",
       "  /* unfitted */\n",
       "  background-color: var(--sklearn-color-unfitted-level-0);\n",
       "}\n",
       "\n",
       "#sk-container-id-2 div.sk-toggleable__content.fitted pre {\n",
       "  /* unfitted */\n",
       "  background-color: var(--sklearn-color-fitted-level-0);\n",
       "}\n",
       "\n",
       "#sk-container-id-2 input.sk-toggleable__control:checked~div.sk-toggleable__content {\n",
       "  /* Expand drop-down */\n",
       "  max-height: 200px;\n",
       "  max-width: 100%;\n",
       "  overflow: auto;\n",
       "}\n",
       "\n",
       "#sk-container-id-2 input.sk-toggleable__control:checked~label.sk-toggleable__label-arrow:before {\n",
       "  content: \"▾\";\n",
       "}\n",
       "\n",
       "/* Pipeline/ColumnTransformer-specific style */\n",
       "\n",
       "#sk-container-id-2 div.sk-label input.sk-toggleable__control:checked~label.sk-toggleable__label {\n",
       "  color: var(--sklearn-color-text);\n",
       "  background-color: var(--sklearn-color-unfitted-level-2);\n",
       "}\n",
       "\n",
       "#sk-container-id-2 div.sk-label.fitted input.sk-toggleable__control:checked~label.sk-toggleable__label {\n",
       "  background-color: var(--sklearn-color-fitted-level-2);\n",
       "}\n",
       "\n",
       "/* Estimator-specific style */\n",
       "\n",
       "/* Colorize estimator box */\n",
       "#sk-container-id-2 div.sk-estimator input.sk-toggleable__control:checked~label.sk-toggleable__label {\n",
       "  /* unfitted */\n",
       "  background-color: var(--sklearn-color-unfitted-level-2);\n",
       "}\n",
       "\n",
       "#sk-container-id-2 div.sk-estimator.fitted input.sk-toggleable__control:checked~label.sk-toggleable__label {\n",
       "  /* fitted */\n",
       "  background-color: var(--sklearn-color-fitted-level-2);\n",
       "}\n",
       "\n",
       "#sk-container-id-2 div.sk-label label.sk-toggleable__label,\n",
       "#sk-container-id-2 div.sk-label label {\n",
       "  /* The background is the default theme color */\n",
       "  color: var(--sklearn-color-text-on-default-background);\n",
       "}\n",
       "\n",
       "/* On hover, darken the color of the background */\n",
       "#sk-container-id-2 div.sk-label:hover label.sk-toggleable__label {\n",
       "  color: var(--sklearn-color-text);\n",
       "  background-color: var(--sklearn-color-unfitted-level-2);\n",
       "}\n",
       "\n",
       "/* Label box, darken color on hover, fitted */\n",
       "#sk-container-id-2 div.sk-label.fitted:hover label.sk-toggleable__label.fitted {\n",
       "  color: var(--sklearn-color-text);\n",
       "  background-color: var(--sklearn-color-fitted-level-2);\n",
       "}\n",
       "\n",
       "/* Estimator label */\n",
       "\n",
       "#sk-container-id-2 div.sk-label label {\n",
       "  font-family: monospace;\n",
       "  font-weight: bold;\n",
       "  display: inline-block;\n",
       "  line-height: 1.2em;\n",
       "}\n",
       "\n",
       "#sk-container-id-2 div.sk-label-container {\n",
       "  text-align: center;\n",
       "}\n",
       "\n",
       "/* Estimator-specific */\n",
       "#sk-container-id-2 div.sk-estimator {\n",
       "  font-family: monospace;\n",
       "  border: 1px dotted var(--sklearn-color-border-box);\n",
       "  border-radius: 0.25em;\n",
       "  box-sizing: border-box;\n",
       "  margin-bottom: 0.5em;\n",
       "  /* unfitted */\n",
       "  background-color: var(--sklearn-color-unfitted-level-0);\n",
       "}\n",
       "\n",
       "#sk-container-id-2 div.sk-estimator.fitted {\n",
       "  /* fitted */\n",
       "  background-color: var(--sklearn-color-fitted-level-0);\n",
       "}\n",
       "\n",
       "/* on hover */\n",
       "#sk-container-id-2 div.sk-estimator:hover {\n",
       "  /* unfitted */\n",
       "  background-color: var(--sklearn-color-unfitted-level-2);\n",
       "}\n",
       "\n",
       "#sk-container-id-2 div.sk-estimator.fitted:hover {\n",
       "  /* fitted */\n",
       "  background-color: var(--sklearn-color-fitted-level-2);\n",
       "}\n",
       "\n",
       "/* Specification for estimator info (e.g. \"i\" and \"?\") */\n",
       "\n",
       "/* Common style for \"i\" and \"?\" */\n",
       "\n",
       ".sk-estimator-doc-link,\n",
       "a:link.sk-estimator-doc-link,\n",
       "a:visited.sk-estimator-doc-link {\n",
       "  float: right;\n",
       "  font-size: smaller;\n",
       "  line-height: 1em;\n",
       "  font-family: monospace;\n",
       "  background-color: var(--sklearn-color-background);\n",
       "  border-radius: 1em;\n",
       "  height: 1em;\n",
       "  width: 1em;\n",
       "  text-decoration: none !important;\n",
       "  margin-left: 1ex;\n",
       "  /* unfitted */\n",
       "  border: var(--sklearn-color-unfitted-level-1) 1pt solid;\n",
       "  color: var(--sklearn-color-unfitted-level-1);\n",
       "}\n",
       "\n",
       ".sk-estimator-doc-link.fitted,\n",
       "a:link.sk-estimator-doc-link.fitted,\n",
       "a:visited.sk-estimator-doc-link.fitted {\n",
       "  /* fitted */\n",
       "  border: var(--sklearn-color-fitted-level-1) 1pt solid;\n",
       "  color: var(--sklearn-color-fitted-level-1);\n",
       "}\n",
       "\n",
       "/* On hover */\n",
       "div.sk-estimator:hover .sk-estimator-doc-link:hover,\n",
       ".sk-estimator-doc-link:hover,\n",
       "div.sk-label-container:hover .sk-estimator-doc-link:hover,\n",
       ".sk-estimator-doc-link:hover {\n",
       "  /* unfitted */\n",
       "  background-color: var(--sklearn-color-unfitted-level-3);\n",
       "  color: var(--sklearn-color-background);\n",
       "  text-decoration: none;\n",
       "}\n",
       "\n",
       "div.sk-estimator.fitted:hover .sk-estimator-doc-link.fitted:hover,\n",
       ".sk-estimator-doc-link.fitted:hover,\n",
       "div.sk-label-container:hover .sk-estimator-doc-link.fitted:hover,\n",
       ".sk-estimator-doc-link.fitted:hover {\n",
       "  /* fitted */\n",
       "  background-color: var(--sklearn-color-fitted-level-3);\n",
       "  color: var(--sklearn-color-background);\n",
       "  text-decoration: none;\n",
       "}\n",
       "\n",
       "/* Span, style for the box shown on hovering the info icon */\n",
       ".sk-estimator-doc-link span {\n",
       "  display: none;\n",
       "  z-index: 9999;\n",
       "  position: relative;\n",
       "  font-weight: normal;\n",
       "  right: .2ex;\n",
       "  padding: .5ex;\n",
       "  margin: .5ex;\n",
       "  width: min-content;\n",
       "  min-width: 20ex;\n",
       "  max-width: 50ex;\n",
       "  color: var(--sklearn-color-text);\n",
       "  box-shadow: 2pt 2pt 4pt #999;\n",
       "  /* unfitted */\n",
       "  background: var(--sklearn-color-unfitted-level-0);\n",
       "  border: .5pt solid var(--sklearn-color-unfitted-level-3);\n",
       "}\n",
       "\n",
       ".sk-estimator-doc-link.fitted span {\n",
       "  /* fitted */\n",
       "  background: var(--sklearn-color-fitted-level-0);\n",
       "  border: var(--sklearn-color-fitted-level-3);\n",
       "}\n",
       "\n",
       ".sk-estimator-doc-link:hover span {\n",
       "  display: block;\n",
       "}\n",
       "\n",
       "/* \"?\"-specific style due to the `<a>` HTML tag */\n",
       "\n",
       "#sk-container-id-2 a.estimator_doc_link {\n",
       "  float: right;\n",
       "  font-size: 1rem;\n",
       "  line-height: 1em;\n",
       "  font-family: monospace;\n",
       "  background-color: var(--sklearn-color-background);\n",
       "  border-radius: 1rem;\n",
       "  height: 1rem;\n",
       "  width: 1rem;\n",
       "  text-decoration: none;\n",
       "  /* unfitted */\n",
       "  color: var(--sklearn-color-unfitted-level-1);\n",
       "  border: var(--sklearn-color-unfitted-level-1) 1pt solid;\n",
       "}\n",
       "\n",
       "#sk-container-id-2 a.estimator_doc_link.fitted {\n",
       "  /* fitted */\n",
       "  border: var(--sklearn-color-fitted-level-1) 1pt solid;\n",
       "  color: var(--sklearn-color-fitted-level-1);\n",
       "}\n",
       "\n",
       "/* On hover */\n",
       "#sk-container-id-2 a.estimator_doc_link:hover {\n",
       "  /* unfitted */\n",
       "  background-color: var(--sklearn-color-unfitted-level-3);\n",
       "  color: var(--sklearn-color-background);\n",
       "  text-decoration: none;\n",
       "}\n",
       "\n",
       "#sk-container-id-2 a.estimator_doc_link.fitted:hover {\n",
       "  /* fitted */\n",
       "  background-color: var(--sklearn-color-fitted-level-3);\n",
       "}\n",
       "</style><div id=\"sk-container-id-2\" class=\"sk-top-container\"><div class=\"sk-text-repr-fallback\"><pre>LinearRegression()</pre><b>In a Jupyter environment, please rerun this cell to show the HTML representation or trust the notebook. <br />On GitHub, the HTML representation is unable to render, please try loading this page with nbviewer.org.</b></div><div class=\"sk-container\" hidden><div class=\"sk-item\"><div class=\"sk-estimator fitted sk-toggleable\"><input class=\"sk-toggleable__control sk-hidden--visually\" id=\"sk-estimator-id-2\" type=\"checkbox\" checked><label for=\"sk-estimator-id-2\" class=\"sk-toggleable__label fitted sk-toggleable__label-arrow fitted\">&nbsp;&nbsp;LinearRegression<a class=\"sk-estimator-doc-link fitted\" rel=\"noreferrer\" target=\"_blank\" href=\"https://scikit-learn.org/1.5/modules/generated/sklearn.linear_model.LinearRegression.html\">?<span>Documentation for LinearRegression</span></a><span class=\"sk-estimator-doc-link fitted\">i<span>Fitted</span></span></label><div class=\"sk-toggleable__content fitted\"><pre>LinearRegression()</pre></div> </div></div></div></div>"
      ],
      "text/plain": [
       "LinearRegression()"
      ]
     },
     "execution_count": 37,
     "metadata": {},
     "output_type": "execute_result"
    }
   ],
   "source": [
    "model.fit(X_train, y_train)"
   ]
  },
  {
   "cell_type": "code",
   "execution_count": 39,
   "id": "2865f118-c4af-4a1b-bfc4-d1393d518e4d",
   "metadata": {},
   "outputs": [
    {
     "name": "stdout",
     "output_type": "stream",
     "text": [
      "\n",
      "3. Regression Model:\n",
      "LinearRegression()\n"
     ]
    }
   ],
   "source": [
    "print(\"\\n3. Regression Model:\")\n",
    "print(model)"
   ]
  },
  {
   "cell_type": "code",
   "execution_count": 41,
   "id": "b704d6e4-71ef-4bf5-9741-c5a3d65f4b0b",
   "metadata": {},
   "outputs": [],
   "source": [
    "X_train_sm = sm.add_constant(X_train)"
   ]
  },
  {
   "cell_type": "code",
   "execution_count": 43,
   "id": "a63036cf-f211-4d56-99f8-cc2507c6b1db",
   "metadata": {},
   "outputs": [],
   "source": [
    "ols_model = sm.OLS(y_train, X_train_sm).fit()"
   ]
  },
  {
   "cell_type": "code",
   "execution_count": 45,
   "id": "3a5f6cc4-9312-4118-bb40-b421dc70f2a8",
   "metadata": {},
   "outputs": [
    {
     "name": "stdout",
     "output_type": "stream",
     "text": [
      "\n",
      "4. Regression Summary (including p-values):\n",
      "                            OLS Regression Results                            \n",
      "==============================================================================\n",
      "Dep. Variable:                  Price   R-squared:                       0.808\n",
      "Model:                            OLS   Adj. R-squared:                  0.804\n",
      "Method:                 Least Squares   F-statistic:                     215.9\n",
      "Date:                Sat, 03 May 2025   Prob (F-statistic):           6.08e-55\n",
      "Time:                        21:26:39   Log-Likelihood:                -348.18\n",
      "No. Observations:                 158   AIC:                             704.4\n",
      "Df Residuals:                     154   BIC:                             716.6\n",
      "Df Model:                           3                                         \n",
      "Covariance Type:            nonrobust                                         \n",
      "==============================================================================\n",
      "                 coef    std err          t      P>|t|      [0.025      0.975]\n",
      "------------------------------------------------------------------------------\n",
      "const         -9.5704      1.935     -4.947      0.000     -13.392      -5.748\n",
      "Area           0.0343      0.002     14.867      0.000       0.030       0.039\n",
      "Distance      -1.8737      0.178    -10.552      0.000      -2.224      -1.523\n",
      "Schools        1.4379      0.447      3.216      0.002       0.555       2.321\n",
      "==============================================================================\n",
      "Omnibus:                       13.376   Durbin-Watson:                   2.259\n",
      "Prob(Omnibus):                  0.001   Jarque-Bera (JB):               14.373\n",
      "Skew:                          -0.726   Prob(JB):                     0.000757\n",
      "Kurtosis:                       3.270   Cond. No.                     1.15e+04\n",
      "==============================================================================\n",
      "\n",
      "Notes:\n",
      "[1] Standard Errors assume that the covariance matrix of the errors is correctly specified.\n",
      "[2] The condition number is large, 1.15e+04. This might indicate that there are\n",
      "strong multicollinearity or other numerical problems.\n"
     ]
    }
   ],
   "source": [
    "print(\"\\n4. Regression Summary (including p-values):\")\n",
    "print(ols_model.summary())"
   ]
  },
  {
   "cell_type": "code",
   "execution_count": 49,
   "id": "94318d31-f1fd-4166-9635-3a22489b959f",
   "metadata": {},
   "outputs": [
    {
     "name": "stdout",
     "output_type": "stream",
     "text": [
      "\n",
      "4. Interpretation of Coefficients:\n",
      "---------------------------------------\n",
      "Variable: Area\n",
      "  Coefficient: 0.0343\n",
      "  P-value: 0.0000\n",
      "  The variable is statistically significant (p < 0.05).\n",
      "  For every one square foot increase in area, the selling price is expected to increase by approximately 0.03 million Rs, holding other variables constant.\n",
      "Variable: Distance\n",
      "  Coefficient: -1.8737\n",
      "  P-value: 0.0000\n",
      "  The variable is statistically significant (p < 0.05).\n",
      "  For every one unit increase in distance from metro, the selling price is expected to change by approximately -1.87 million Rs, holding other variables constant.\n",
      "Variable: Schools\n",
      "  Coefficient: 1.4379\n",
      "  P-value: 0.0016\n",
      "  The variable is statistically significant (p < 0.05).\n",
      "  For every one additional school within 2km, the selling price is expected to increase by approximately 1.44 million Rs, holding other variables constant.\n"
     ]
    },
    {
     "name": "stderr",
     "output_type": "stream",
     "text": [
      "C:\\Users\\bahae\\AppData\\Local\\Temp\\ipykernel_12572\\409025432.py:4: FutureWarning: Series.__getitem__ treating keys as positions is deprecated. In a future version, integer keys will always be treated as labels (consistent with DataFrame behavior). To access a value by position, use `ser.iloc[pos]`\n",
      "  coef = ols_model.params[i+1] # Get coefficient, skipping the constant\n",
      "C:\\Users\\bahae\\AppData\\Local\\Temp\\ipykernel_12572\\409025432.py:5: FutureWarning: Series.__getitem__ treating keys as positions is deprecated. In a future version, integer keys will always be treated as labels (consistent with DataFrame behavior). To access a value by position, use `ser.iloc[pos]`\n",
      "  p_value = ols_model.pvalues[i+1]\n"
     ]
    }
   ],
   "source": [
    "print(\"\\n4. Interpretation of Coefficients:\")\n",
    "print(\"---------------------------------------\")\n",
    "for i, col in enumerate(X_train.columns):\n",
    "    coef = ols_model.params[i+1] # Get coefficient, skipping the constant\n",
    "    p_value = ols_model.pvalues[i+1]\n",
    "    print(f\"Variable: {col}\")\n",
    "    print(f\"  Coefficient: {coef:.4f}\")  # Print coefficient to 4 decimal places\n",
    "    print(f\"  P-value: {p_value:.4f}\")\n",
    "    if p_value < 0.05:\n",
    "        print(\"  The variable is statistically significant (p < 0.05).\")\n",
    "    else:\n",
    "        print(\"  The variable is not statistically significant (p >= 0.05).\")\n",
    "    #Provide a basic interpretation\n",
    "    if col == \"Area\":\n",
    "        print(\"  For every one square foot increase in area, the selling price is expected to increase by approximately\",round(coef,2),\"million Rs, holding other variables constant.\")\n",
    "    elif col == \"Distance\":\n",
    "        print(\"  For every one unit increase in distance from metro, the selling price is expected to change by approximately\",round(coef,2),\"million Rs, holding other variables constant.\")\n",
    "    elif col == \"Schools\":\n",
    "        print(\"  For every one additional school within 2km, the selling price is expected to increase by approximately\",round(coef,2),\"million Rs, holding other variables constant.\")"
   ]
  },
  {
   "cell_type": "code",
   "execution_count": 51,
   "id": "76693654-2f2f-47b5-9bb3-3b20b8b45989",
   "metadata": {},
   "outputs": [
    {
     "name": "stdout",
     "output_type": "stream",
     "text": [
      "\n",
      "5. R-squared and Adjusted R-squared:\n",
      "R-squared: 0.8079\n",
      "Adjusted R-squared: 0.8042\n",
      "\n",
      "5. Interpretation:\n",
      "-------------------\n",
      "The R-squared value of 0.8079 indicates that approximately 80.79% of the variance in the selling price is explained by the model.\n",
      "The adjusted R-squared value of 0.8042 is a more conservative estimate, accounting for the number of predictors in the model.\n"
     ]
    }
   ],
   "source": [
    "r_squared = ols_model.rsquared\n",
    "adjusted_r_squared = ols_model.rsquared_adj\n",
    "\n",
    "print(\"\\n5. R-squared and Adjusted R-squared:\")\n",
    "print(f\"R-squared: {r_squared:.4f}\")  # Print R-squared\n",
    "print(f\"Adjusted R-squared: {adjusted_r_squared:.4f}\")  # Print Adjusted R-squared\n",
    "\n",
    "print(\"\\n5. Interpretation:\")\n",
    "print(\"-------------------\")\n",
    "print(f\"The R-squared value of {r_squared:.4f} indicates that approximately {r_squared * 100:.2f}% of the variance in the selling price is explained by the model.\")\n",
    "print(f\"The adjusted R-squared value of {adjusted_r_squared:.4f} is a more conservative estimate, accounting for the number of predictors in the model.\")"
   ]
  },
  {
   "cell_type": "code",
   "execution_count": 53,
   "id": "8ff8007b-82f7-485f-a832-e8a31b80b0d5",
   "metadata": {},
   "outputs": [
    {
     "name": "stdout",
     "output_type": "stream",
     "text": [
      "\n",
      "6. Multicollinearity Check (VIF):\n",
      "   Variable        VIF\n",
      "0      Area  53.668601\n",
      "1  Distance   6.277767\n",
      "2   Schools  40.838649\n",
      "\n",
      "6. Correlation Matrix:\n",
      "              Area  Distance   Schools\n",
      "Area      1.000000 -0.031807  0.634396\n",
      "Distance -0.031807  1.000000 -0.195271\n",
      "Schools   0.634396 -0.195271  1.000000\n"
     ]
    }
   ],
   "source": [
    "vif = pd.DataFrame()\n",
    "vif[\"Variable\"] = X_train.columns\n",
    "vif[\"VIF\"] = [variance_inflation_factor(X_train.values, i) for i in range(X_train.shape[1])]\n",
    "\n",
    "print(\"\\n6. Multicollinearity Check (VIF):\")\n",
    "print(vif)\n",
    "\n",
    "#Check correlation\n",
    "correlation_matrix = X_train.corr()\n",
    "print(\"\\n6. Correlation Matrix:\")\n",
    "print(correlation_matrix)"
   ]
  },
  {
   "cell_type": "code",
   "execution_count": 55,
   "id": "a49e4577-27e1-4022-8dd0-1aaea2ffc157",
   "metadata": {},
   "outputs": [
    {
     "name": "stdout",
     "output_type": "stream",
     "text": [
      "\n",
      "6. Interpretation of Multicollinearity:\n",
      "---------------------------------------\n",
      "There is evidence of multicollinearity.  Consider removing variables with high VIF values or combining them.\n"
     ]
    }
   ],
   "source": [
    "print(\"\\n6. Interpretation of Multicollinearity:\")\n",
    "print(\"---------------------------------------\")\n",
    "if any(vif[\"VIF\"] > 5): #Common threshold\n",
    "    print(\"There is evidence of multicollinearity.  Consider removing variables with high VIF values or combining them.\")\n",
    "else:\n",
    "    print(\"There is no significant multicollinearity detected.\")"
   ]
  },
  {
   "cell_type": "code",
   "execution_count": 57,
   "id": "347f4514-2a7d-4c11-9b70-8e6ba8e844ed",
   "metadata": {},
   "outputs": [
    {
     "name": "stdout",
     "output_type": "stream",
     "text": [
      "\n",
      "7. Cook's Distance Threshold: 0.0253\n",
      "\n",
      "7. Influential Observations (Cook's Distance):\n",
      "[  6  23  24  27  51  62  65  97 103 109 115 116 125 140 141 145 149]\n"
     ]
    }
   ],
   "source": [
    "influence = ols_model.get_influence()\n",
    "cooks_d = influence.cooks_distance[0]  # Cook's distance values\n",
    "n = len(X_train)\n",
    "p = X_train.shape[1] + 1  # Number of predictors + 1 (for the constant)\n",
    "cooks_threshold = 4 / n\n",
    "print(f\"\\n7. Cook's Distance Threshold: {cooks_threshold:.4f}\")\n",
    "print(\"\\n7. Influential Observations (Cook's Distance):\")\n",
    "influential_points = np.where(cooks_d > cooks_threshold)[0]\n",
    "if (len(influential_points) > 0):\n",
    "  print(influential_points)\n",
    "else:\n",
    "  print(\"No influential observations detected using Cook's distance\")"
   ]
  },
  {
   "cell_type": "code",
   "execution_count": 59,
   "id": "578ec055-8ae8-490b-a297-6941f32281bf",
   "metadata": {},
   "outputs": [
    {
     "name": "stdout",
     "output_type": "stream",
     "text": [
      "\n",
      "8. Normality of Errors (Shapiro-Wilk Test):\n",
      "Shapiro-Wilk Test Statistic: 0.9605\n",
      "P-value: 0.0002\n",
      "\n",
      "8. Interpretation of Normality:\n",
      "------------------------------\n",
      "The errors are not normally distributed (p < 0.05).\n"
     ]
    }
   ],
   "source": [
    "residuals = ols_model.resid\n",
    "shapiro_test = shapiro(residuals)\n",
    "\n",
    "print(\"\\n8. Normality of Errors (Shapiro-Wilk Test):\")\n",
    "print(f\"Shapiro-Wilk Test Statistic: {shapiro_test.statistic:.4f}\")\n",
    "print(f\"P-value: {shapiro_test.pvalue:.4f}\")\n",
    "\n",
    "print(\"\\n8. Interpretation of Normality:\")\n",
    "print(\"------------------------------\")\n",
    "if shapiro_test.pvalue < 0.05:\n",
    "    print(\"The errors are not normally distributed (p < 0.05).\")\n",
    "else:\n",
    "    print(\"The errors appear to be normally distributed (p >= 0.05).\")"
   ]
  },
  {
   "cell_type": "code",
   "execution_count": 61,
   "id": "701e30fd-a49a-4ad9-80a2-3d97ec626c88",
   "metadata": {},
   "outputs": [
    {
     "data": {
      "image/png": "[encoded data removed]",
      "text/plain": [
       "<Figure size 1000x600 with 1 Axes>"
      ]
     },
     "metadata": {},
     "output_type": "display_data"
    },
    {
     "name": "stdout",
     "output_type": "stream",
     "text": [
      "\n",
      "9. Heteroscedasticity Check (Breusch-Pagan Test):\n",
      "Breusch-Pagan Test Statistic: 30.9262\n",
      "P-value: 0.0000\n",
      "\n",
      "9. Interpretation of Heteroscedasticity:\n",
      "---------------------------------------\n",
      "There is evidence of heteroscedasticity (p < 0.05). The variance of the errors is not constant.\n"
     ]
    }
   ],
   "source": [
    "plt.figure(figsize=(10, 6))\n",
    "plt.scatter(ols_model.fittedvalues, residuals)\n",
    "plt.xlabel(\"Fitted Values\")\n",
    "plt.ylabel(\"Residuals\")\n",
    "plt.title(\"Residuals vs. Fitted Values\")\n",
    "plt.show()\n",
    "\n",
    "bp_test = het_breuschpagan(residuals, X_train_sm)\n",
    "print(\"\\n9. Heteroscedasticity Check (Breusch-Pagan Test):\")\n",
    "print(f\"Breusch-Pagan Test Statistic: {bp_test[0]:.4f}\")\n",
    "print(f\"P-value: {bp_test[1]:.4f}\")\n",
    "\n",
    "print(\"\\n9. Interpretation of Heteroscedasticity:\")\n",
    "print(\"---------------------------------------\")\n",
    "if bp_test[1] < 0.05:\n",
    "    print(\"There is evidence of heteroscedasticity (p < 0.05). The variance of the errors is not constant.\")\n",
    "else:\n",
    "    print(\"There is no significant heteroscedasticity detected (p >= 0.05). The variance of the errors appears to be constant.\")"
   ]
  },
  {
   "cell_type": "code",
   "execution_count": 63,
   "id": "512fa747-e1e1-46c0-8fcc-d6c4f64b4f07",
   "metadata": {},
   "outputs": [
    {
     "name": "stdout",
     "output_type": "stream",
     "text": [
      "\n",
      "10. RMSE (Root Mean Squared Error):\n",
      "Training RMSE: 2.1919\n",
      "Testing RMSE: 2.2308\n"
     ]
    }
   ],
   "source": [
    "y_train_pred = ols_model.predict(X_train_sm)  # Predict on training data\n",
    "y_test_pred = model.predict(X_test)  # Predict on test data\n",
    "\n",
    "train_rmse = np.sqrt(mean_squared_error(y_train, y_train_pred))\n",
    "test_rmse = np.sqrt(mean_squared_error(y_test, y_test_pred))\n",
    "\n",
    "print(\"\\n10. RMSE (Root Mean Squared Error):\")\n",
    "print(f\"Training RMSE: {train_rmse:.4f}\")\n",
    "print(f\"Testing RMSE: {test_rmse:.4f}\")"
   ]
  },
  {
   "cell_type": "code",
   "execution_count": null,
   "id": "9ce072fe-a386-4769-bef7-4b44ab51ffb1",
   "metadata": {},
   "outputs": [],
   "source": []
  }
 ],
 "metadata": {
  "kernelspec": {
   "display_name": "Python [conda env:base] *",
   "language": "python",
   "name": "conda-base-py"
  },
  "language_info": {
   "codemirror_mode": {
    "name": "ipython",
    "version": 3
   },
   "file_extension": ".py",
   "mimetype": "text/x-python",
   "name": "python",
   "nbconvert_exporter": "python",
   "pygments_lexer": "ipython3",
   "version": "3.12.7"
  }
 },
 "nbformat": 4,
 "nbformat_minor": 5
}
