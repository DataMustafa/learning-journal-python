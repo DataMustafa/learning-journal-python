{
 "cells": [
  {
   "cell_type": "code",
   "execution_count": 1,
   "id": "56beb4ae-993f-4c5b-be20-4de3907cfafd",
   "metadata": {},
   "outputs": [],
   "source": [
    "import pandas as pd"
   ]
  },
  {
   "cell_type": "code",
   "execution_count": 3,
   "id": "6e727dad-6978-48f1-b21e-1c4350b3c119",
   "metadata": {},
   "outputs": [],
   "source": [
    "Premium = pd.read_csv(\"Premiums.csv\")"
   ]
  },
  {
   "cell_type": "code",
   "execution_count": 5,
   "id": "3801534a-b792-4114-a2b1-42990ac75755",
   "metadata": {},
   "outputs": [
    {
     "name": "stdout",
     "output_type": "stream",
     "text": [
      "Number of Rows: 4744, Number of Columns: 10\n"
     ]
    }
   ],
   "source": [
    "# 2. Check number of rows, columns in the data\n",
    "num_rows, num_cols = Premium.shape\n",
    "print(f\"Number of Rows: {num_rows}, Number of Columns: {num_cols}\")"
   ]
  },
  {
   "cell_type": "code",
   "execution_count": 7,
   "id": "68c65dd5-e891-441e-aa0e-ad3d458d608e",
   "metadata": {},
   "outputs": [
    {
     "name": "stdout",
     "output_type": "stream",
     "text": [
      "First 10 rows:\n",
      "         POLICY_NO PRODUCT   BRANCH_NAME       REGION ZONE_NAME  \\\n",
      "0  A-2007073196522  TRAVEL          Pune  ROM and Goa     South   \n",
      "1  A-2007080402998  TRAVEL         Anand   Gujarat II     North   \n",
      "2  A-2007081314381  TRAVEL    Chennai II    Tamilnadu     South   \n",
      "3  A-2007082123389  TRAVEL        Baroda   Gujarat II     North   \n",
      "4  A-2007082123394  TRAVEL        Baroda   Gujarat II     North   \n",
      "5  A-2007083135582  TRAVEL  Bangalore II     Karnatka     South   \n",
      "6  A-2007090540083  TRAVEL       Andheri    Mumbai II     South   \n",
      "7  A-2007090540188  TRAVEL       Andheri    Mumbai II     South   \n",
      "8  A-2007090540273  TRAVEL       Andheri    Mumbai II     South   \n",
      "9  A-2007090540347  TRAVEL       Andheri    Mumbai II     South   \n",
      "\n",
      "                 Plan  Sum_Assured  Premium  Sub_Plan  Vintage_Period  \n",
      "0    Asia Silver Plan      30000.0    525.0    Silver              14  \n",
      "1    Asia Silver Plan      30000.0    325.0    Silver              30  \n",
      "2  Asia Standard Plan    1250000.0    300.0  Standard               4  \n",
      "3  Asia Standard Plan      25000.0    300.0  Standard              30  \n",
      "4  Asia Standard Plan      25000.0    300.0  Standard              30  \n",
      "5          Individual      50000.0    498.0  Standard             446  \n",
      "6    Asia Silver Plan      25000.0    364.0    Silver               5  \n",
      "7    Asia Silver Plan      25000.0    365.0    Silver               5  \n",
      "8    Asia Silver Plan      25000.0    364.0    Silver               8  \n",
      "9    Asia Silver Plan      25000.0    363.0    Silver               8  \n",
      "Last 5 rows:\n",
      "            POLICY_NO PRODUCT  BRANCH_NAME            REGION ZONE_NAME  \\\n",
      "4739  I-2008090517429  TRAVEL     Bareilly  UP AND UTRANCHAL     North   \n",
      "4740  I-2008090617490  TRAVEL  Bangalore I          Karnatka     South   \n",
      "4741  I-2008090617503  TRAVEL  Bangalore I          Karnatka     South   \n",
      "4742  I-2008091917750  TRAVEL        Patna      Rest of East      East   \n",
      "4743  I-2008092017751  TRAVEL  Gandhinagar         Gujarat I     North   \n",
      "\n",
      "                    Plan  Sum_Assured  Premium  Sub_Plan  Vintage_Period  \n",
      "4739  Individual  Standa      50000.0    407.0  Standard               5  \n",
      "4740  Individual  Standa    2000000.0    584.0  Standard              13  \n",
      "4741  Individual  Standa    2000000.0    549.0  Standard              14  \n",
      "4742  Individual  Gold P   10000000.0   1198.0      Gold              18  \n",
      "4743  Individual  Standa      50000.0    549.0  Standard             365  \n"
     ]
    }
   ],
   "source": [
    "# 3. Display first 10 rows and last 5 rows\n",
    "print(\"First 10 rows:\")\n",
    "print(Premium.head(10))\n",
    "print(\"Last 5 rows:\")\n",
    "print(Premium.tail(5))"
   ]
  },
  {
   "cell_type": "code",
   "execution_count": 9,
   "id": "ef947664-7f28-42c1-8dde-cafc8e0fc732",
   "metadata": {},
   "outputs": [
    {
     "name": "stdout",
     "output_type": "stream",
     "text": [
      "Summary of variables:\n",
      "              POLICY_NO PRODUCT  BRANCH_NAME    REGION ZONE_NAME  \\\n",
      "count              4744    4744         4744      4744      4744   \n",
      "unique             4744       1           89        19         3   \n",
      "top     A-2007073196522  TRAVEL  Bangalore I  Delhi II     South   \n",
      "freq                  1    4744          471       707      2634   \n",
      "mean                NaN     NaN          NaN       NaN       NaN   \n",
      "std                 NaN     NaN          NaN       NaN       NaN   \n",
      "min                 NaN     NaN          NaN       NaN       NaN   \n",
      "25%                 NaN     NaN          NaN       NaN       NaN   \n",
      "50%                 NaN     NaN          NaN       NaN       NaN   \n",
      "75%                 NaN     NaN          NaN       NaN       NaN   \n",
      "max                 NaN     NaN          NaN       NaN       NaN   \n",
      "\n",
      "                      Plan   Sum_Assured       Premium  Sub_Plan  \\\n",
      "count                 4744  4.744000e+03   4744.000000      4744   \n",
      "unique                  10           NaN           NaN         4   \n",
      "top     Individual  Standa           NaN           NaN  Standard   \n",
      "freq                  2000           NaN           NaN      2162   \n",
      "mean                   NaN  3.824805e+06   1146.968876       NaN   \n",
      "std                    NaN  4.839914e+06   1225.008815       NaN   \n",
      "min                    NaN  0.000000e+00      0.000000       NaN   \n",
      "25%                    NaN  5.000000e+05    549.000000       NaN   \n",
      "50%                    NaN  2.000000e+06    731.500000       NaN   \n",
      "75%                    NaN  4.000000e+06   1199.000000       NaN   \n",
      "max                    NaN  2.500000e+07  19649.000000       NaN   \n",
      "\n",
      "        Vintage_Period  \n",
      "count      4744.000000  \n",
      "unique             NaN  \n",
      "top                NaN  \n",
      "freq               NaN  \n",
      "mean         49.103288  \n",
      "std          80.413759  \n",
      "min           0.000000  \n",
      "25%           9.000000  \n",
      "50%          17.000000  \n",
      "75%          42.000000  \n",
      "max         733.000000  \n"
     ]
    }
   ],
   "source": [
    "# 4. Describe (summarize) all variables\n",
    "print(\"Summary of variables:\")\n",
    "print(Premium.describe(include='all'))"
   ]
  },
  {
   "cell_type": "code",
   "execution_count": 13,
   "id": "2f715d2c-dbeb-43bb-8ae5-2fe2d7dc1c0a",
   "metadata": {},
   "outputs": [
    {
     "name": "stdout",
     "output_type": "stream",
     "text": [
      "Top 5 policies by premium amount:\n"
     ]
    },
    {
     "ename": "KeyError",
     "evalue": "'Premium_Amount'",
     "output_type": "error",
     "traceback": [
      "\u001b[1;31m---------------------------------------------------------------------------\u001b[0m",
      "\u001b[1;31mKeyError\u001b[0m                                  Traceback (most recent call last)",
      "File \u001b[1;32m~\\anaconda3\\Lib\\site-packages\\pandas\\core\\indexes\\base.py:3805\u001b[0m, in \u001b[0;36mIndex.get_loc\u001b[1;34m(self, key)\u001b[0m\n\u001b[0;32m   3804\u001b[0m \u001b[38;5;28;01mtry\u001b[39;00m:\n\u001b[1;32m-> 3805\u001b[0m     \u001b[38;5;28;01mreturn\u001b[39;00m \u001b[38;5;28mself\u001b[39m\u001b[38;5;241m.\u001b[39m_engine\u001b[38;5;241m.\u001b[39mget_loc(casted_key)\n\u001b[0;32m   3806\u001b[0m \u001b[38;5;28;01mexcept\u001b[39;00m \u001b[38;5;167;01mKeyError\u001b[39;00m \u001b[38;5;28;01mas\u001b[39;00m err:\n",
      "File \u001b[1;32mindex.pyx:167\u001b[0m, in \u001b[0;36mpandas._libs.index.IndexEngine.get_loc\u001b[1;34m()\u001b[0m\n",
      "File \u001b[1;32mindex.pyx:196\u001b[0m, in \u001b[0;36mpandas._libs.index.IndexEngine.get_loc\u001b[1;34m()\u001b[0m\n",
      "File \u001b[1;32mpandas\\\\_libs\\\\hashtable_class_helper.pxi:7081\u001b[0m, in \u001b[0;36mpandas._libs.hashtable.PyObjectHashTable.get_item\u001b[1;34m()\u001b[0m\n",
      "File \u001b[1;32mpandas\\\\_libs\\\\hashtable_class_helper.pxi:7089\u001b[0m, in \u001b[0;36mpandas._libs.hashtable.PyObjectHashTable.get_item\u001b[1;34m()\u001b[0m\n",
      "\u001b[1;31mKeyError\u001b[0m: 'Premium_Amount'",
      "\nThe above exception was the direct cause of the following exception:\n",
      "\u001b[1;31mKeyError\u001b[0m                                  Traceback (most recent call last)",
      "Cell \u001b[1;32mIn[13], line 3\u001b[0m\n\u001b[0;32m      1\u001b[0m \u001b[38;5;66;03m# 5. Display top 5 and bottom 5 policies in terms of premium amount\u001b[39;00m\n\u001b[0;32m      2\u001b[0m \u001b[38;5;28mprint\u001b[39m(\u001b[38;5;124m\"\u001b[39m\u001b[38;5;124mTop 5 policies by premium amount:\u001b[39m\u001b[38;5;124m\"\u001b[39m)\n\u001b[1;32m----> 3\u001b[0m \u001b[38;5;28mprint\u001b[39m(Premium\u001b[38;5;241m.\u001b[39mnlargest(\u001b[38;5;241m5\u001b[39m, \u001b[38;5;124m'\u001b[39m\u001b[38;5;124mPremium_Amount\u001b[39m\u001b[38;5;124m'\u001b[39m))\n\u001b[0;32m      4\u001b[0m \u001b[38;5;28mprint\u001b[39m(\u001b[38;5;124m\"\u001b[39m\u001b[38;5;124mBottom 5 policies by premium amount:\u001b[39m\u001b[38;5;124m\"\u001b[39m)\n\u001b[0;32m      5\u001b[0m \u001b[38;5;28mprint\u001b[39m(Premium\u001b[38;5;241m.\u001b[39mnsmallest(\u001b[38;5;241m5\u001b[39m, \u001b[38;5;124m'\u001b[39m\u001b[38;5;124mPremium_Amount\u001b[39m\u001b[38;5;124m'\u001b[39m))\n",
      "File \u001b[1;32m~\\anaconda3\\Lib\\site-packages\\pandas\\core\\frame.py:7644\u001b[0m, in \u001b[0;36mDataFrame.nlargest\u001b[1;34m(self, n, columns, keep)\u001b[0m\n\u001b[0;32m   7525\u001b[0m \u001b[38;5;28;01mdef\u001b[39;00m \u001b[38;5;21mnlargest\u001b[39m(\n\u001b[0;32m   7526\u001b[0m     \u001b[38;5;28mself\u001b[39m, n: \u001b[38;5;28mint\u001b[39m, columns: IndexLabel, keep: NsmallestNlargestKeep \u001b[38;5;241m=\u001b[39m \u001b[38;5;124m\"\u001b[39m\u001b[38;5;124mfirst\u001b[39m\u001b[38;5;124m\"\u001b[39m\n\u001b[0;32m   7527\u001b[0m ) \u001b[38;5;241m-\u001b[39m\u001b[38;5;241m>\u001b[39m DataFrame:\n\u001b[0;32m   7528\u001b[0m \u001b[38;5;250m    \u001b[39m\u001b[38;5;124;03m\"\"\"\u001b[39;00m\n\u001b[0;32m   7529\u001b[0m \u001b[38;5;124;03m    Return the first `n` rows ordered by `columns` in descending order.\u001b[39;00m\n\u001b[0;32m   7530\u001b[0m \n\u001b[1;32m   (...)\u001b[0m\n\u001b[0;32m   7642\u001b[0m \u001b[38;5;124;03m    Brunei      434000    12128      BN\u001b[39;00m\n\u001b[0;32m   7643\u001b[0m \u001b[38;5;124;03m    \"\"\"\u001b[39;00m\n\u001b[1;32m-> 7644\u001b[0m     \u001b[38;5;28;01mreturn\u001b[39;00m selectn\u001b[38;5;241m.\u001b[39mSelectNFrame(\u001b[38;5;28mself\u001b[39m, n\u001b[38;5;241m=\u001b[39mn, keep\u001b[38;5;241m=\u001b[39mkeep, columns\u001b[38;5;241m=\u001b[39mcolumns)\u001b[38;5;241m.\u001b[39mnlargest()\n",
      "File \u001b[1;32m~\\anaconda3\\Lib\\site-packages\\pandas\\core\\methods\\selectn.py:57\u001b[0m, in \u001b[0;36mSelectN.nlargest\u001b[1;34m(self)\u001b[0m\n\u001b[0;32m     55\u001b[0m \u001b[38;5;129m@final\u001b[39m\n\u001b[0;32m     56\u001b[0m \u001b[38;5;28;01mdef\u001b[39;00m \u001b[38;5;21mnlargest\u001b[39m(\u001b[38;5;28mself\u001b[39m):\n\u001b[1;32m---> 57\u001b[0m     \u001b[38;5;28;01mreturn\u001b[39;00m \u001b[38;5;28mself\u001b[39m\u001b[38;5;241m.\u001b[39mcompute(\u001b[38;5;124m\"\u001b[39m\u001b[38;5;124mnlargest\u001b[39m\u001b[38;5;124m\"\u001b[39m)\n",
      "File \u001b[1;32m~\\anaconda3\\Lib\\site-packages\\pandas\\core\\methods\\selectn.py:199\u001b[0m, in \u001b[0;36mSelectNFrame.compute\u001b[1;34m(self, method)\u001b[0m\n\u001b[0;32m    196\u001b[0m columns \u001b[38;5;241m=\u001b[39m \u001b[38;5;28mself\u001b[39m\u001b[38;5;241m.\u001b[39mcolumns\n\u001b[0;32m    198\u001b[0m \u001b[38;5;28;01mfor\u001b[39;00m column \u001b[38;5;129;01min\u001b[39;00m columns:\n\u001b[1;32m--> 199\u001b[0m     dtype \u001b[38;5;241m=\u001b[39m frame[column]\u001b[38;5;241m.\u001b[39mdtype\n\u001b[0;32m    200\u001b[0m     \u001b[38;5;28;01mif\u001b[39;00m \u001b[38;5;129;01mnot\u001b[39;00m \u001b[38;5;28mself\u001b[39m\u001b[38;5;241m.\u001b[39mis_valid_dtype_n_method(dtype):\n\u001b[0;32m    201\u001b[0m         \u001b[38;5;28;01mraise\u001b[39;00m \u001b[38;5;167;01mTypeError\u001b[39;00m(\n\u001b[0;32m    202\u001b[0m             \u001b[38;5;124mf\u001b[39m\u001b[38;5;124m\"\u001b[39m\u001b[38;5;124mColumn \u001b[39m\u001b[38;5;132;01m{\u001b[39;00m\u001b[38;5;28mrepr\u001b[39m(column)\u001b[38;5;132;01m}\u001b[39;00m\u001b[38;5;124m has dtype \u001b[39m\u001b[38;5;132;01m{\u001b[39;00mdtype\u001b[38;5;132;01m}\u001b[39;00m\u001b[38;5;124m, \u001b[39m\u001b[38;5;124m\"\u001b[39m\n\u001b[0;32m    203\u001b[0m             \u001b[38;5;124mf\u001b[39m\u001b[38;5;124m\"\u001b[39m\u001b[38;5;124mcannot use method \u001b[39m\u001b[38;5;132;01m{\u001b[39;00m\u001b[38;5;28mrepr\u001b[39m(method)\u001b[38;5;132;01m}\u001b[39;00m\u001b[38;5;124m with this dtype\u001b[39m\u001b[38;5;124m\"\u001b[39m\n\u001b[0;32m    204\u001b[0m         )\n",
      "File \u001b[1;32m~\\anaconda3\\Lib\\site-packages\\pandas\\core\\frame.py:4102\u001b[0m, in \u001b[0;36mDataFrame.__getitem__\u001b[1;34m(self, key)\u001b[0m\n\u001b[0;32m   4100\u001b[0m \u001b[38;5;28;01mif\u001b[39;00m \u001b[38;5;28mself\u001b[39m\u001b[38;5;241m.\u001b[39mcolumns\u001b[38;5;241m.\u001b[39mnlevels \u001b[38;5;241m>\u001b[39m \u001b[38;5;241m1\u001b[39m:\n\u001b[0;32m   4101\u001b[0m     \u001b[38;5;28;01mreturn\u001b[39;00m \u001b[38;5;28mself\u001b[39m\u001b[38;5;241m.\u001b[39m_getitem_multilevel(key)\n\u001b[1;32m-> 4102\u001b[0m indexer \u001b[38;5;241m=\u001b[39m \u001b[38;5;28mself\u001b[39m\u001b[38;5;241m.\u001b[39mcolumns\u001b[38;5;241m.\u001b[39mget_loc(key)\n\u001b[0;32m   4103\u001b[0m \u001b[38;5;28;01mif\u001b[39;00m is_integer(indexer):\n\u001b[0;32m   4104\u001b[0m     indexer \u001b[38;5;241m=\u001b[39m [indexer]\n",
      "File \u001b[1;32m~\\anaconda3\\Lib\\site-packages\\pandas\\core\\indexes\\base.py:3812\u001b[0m, in \u001b[0;36mIndex.get_loc\u001b[1;34m(self, key)\u001b[0m\n\u001b[0;32m   3807\u001b[0m     \u001b[38;5;28;01mif\u001b[39;00m \u001b[38;5;28misinstance\u001b[39m(casted_key, \u001b[38;5;28mslice\u001b[39m) \u001b[38;5;129;01mor\u001b[39;00m (\n\u001b[0;32m   3808\u001b[0m         \u001b[38;5;28misinstance\u001b[39m(casted_key, abc\u001b[38;5;241m.\u001b[39mIterable)\n\u001b[0;32m   3809\u001b[0m         \u001b[38;5;129;01mand\u001b[39;00m \u001b[38;5;28many\u001b[39m(\u001b[38;5;28misinstance\u001b[39m(x, \u001b[38;5;28mslice\u001b[39m) \u001b[38;5;28;01mfor\u001b[39;00m x \u001b[38;5;129;01min\u001b[39;00m casted_key)\n\u001b[0;32m   3810\u001b[0m     ):\n\u001b[0;32m   3811\u001b[0m         \u001b[38;5;28;01mraise\u001b[39;00m InvalidIndexError(key)\n\u001b[1;32m-> 3812\u001b[0m     \u001b[38;5;28;01mraise\u001b[39;00m \u001b[38;5;167;01mKeyError\u001b[39;00m(key) \u001b[38;5;28;01mfrom\u001b[39;00m \u001b[38;5;21;01merr\u001b[39;00m\n\u001b[0;32m   3813\u001b[0m \u001b[38;5;28;01mexcept\u001b[39;00m \u001b[38;5;167;01mTypeError\u001b[39;00m:\n\u001b[0;32m   3814\u001b[0m     \u001b[38;5;66;03m# If we have a listlike key, _check_indexing_error will raise\u001b[39;00m\n\u001b[0;32m   3815\u001b[0m     \u001b[38;5;66;03m#  InvalidIndexError. Otherwise we fall through and re-raise\u001b[39;00m\n\u001b[0;32m   3816\u001b[0m     \u001b[38;5;66;03m#  the TypeError.\u001b[39;00m\n\u001b[0;32m   3817\u001b[0m     \u001b[38;5;28mself\u001b[39m\u001b[38;5;241m.\u001b[39m_check_indexing_error(key)\n",
      "\u001b[1;31mKeyError\u001b[0m: 'Premium_Amount'"
     ]
    }
   ],
   "source": [
    "# 5. Display top 5 and bottom 5 policies in terms of premium amount\n",
    "print(\"Top 5 policies by premium amount:\")\n",
    "print(Premium.nlargest(5, 'Premium_Amount'))\n",
    "print(\"Bottom 5 policies by premium amount:\")\n",
    "print(Premium.nsmallest(5, 'Premium_Amount'))"
   ]
  },
  {
   "cell_type": "code",
   "execution_count": 15,
   "id": "05e7aec0-efcb-4e29-9af4-028286df5dde",
   "metadata": {},
   "outputs": [
    {
     "name": "stdout",
     "output_type": "stream",
     "text": [
      "Index(['POLICY_NO', 'PRODUCT', 'BRANCH_NAME', 'REGION', 'ZONE_NAME', 'Plan',\n",
      "       'Sum_Assured', 'Premium', 'Sub_Plan', 'Vintage_Period'],\n",
      "      dtype='object')\n"
     ]
    }
   ],
   "source": [
    "print(Premium.columns)\n"
   ]
  },
  {
   "cell_type": "code",
   "execution_count": 17,
   "id": "5de1f19d-29dc-4e9a-b31a-defcfb95aa7c",
   "metadata": {},
   "outputs": [
    {
     "name": "stdout",
     "output_type": "stream",
     "text": [
      "            POLICY_NO PRODUCT      BRANCH_NAME                        REGION  \\\n",
      "184   F-2007091248143  TRAVEL          Bharuch                    Gujarat II   \n",
      "858   I-2007092056819  TRAVEL      Bangalore I                      Karnatka   \n",
      "201   F-2007110802074  TRAVEL  Connaught Place                      Delhi II   \n",
      "1178  I-2007102386800  TRAVEL            Surat                    Gujarat II   \n",
      "1715  I-2007120729531  TRAVEL       Chandigarh  Haryana And Himachal Pradesh   \n",
      "\n",
      "     ZONE_NAME                Plan  Sum_Assured  Premium  Sub_Plan  \\\n",
      "184      North   Family  Gold Plan     100000.0  19649.0      Gold   \n",
      "858      South  Individual  Platin     500000.0  14082.0  Platinum   \n",
      "201      North  Family  Standard P    2000000.0  12212.0  Standard   \n",
      "1178     North  Individual  Platin     500000.0  11836.0  Platinum   \n",
      "1715     North  Individual  Platin   20000000.0  11836.0  Platinum   \n",
      "\n",
      "      Vintage_Period  \n",
      "184              180  \n",
      "858               24  \n",
      "201              180  \n",
      "1178             182  \n",
      "1715             182  \n",
      "            POLICY_NO PRODUCT  BRANCH_NAME                        REGION  \\\n",
      "154   A-2008082607824  TRAVEL     Amritsar     Punjab And Jammu  Kashmir   \n",
      "156   A-2008082607921  TRAVEL     Amritsar     Punjab And Jammu  Kashmir   \n",
      "337   I-2007051920023  TRAVEL   Chandigarh  Haryana And Himachal Pradesh   \n",
      "825   I-2007091853249  TRAVEL       Cochin                        Kerala   \n",
      "1456  I-2007111306174  TRAVEL  Nehru Place                       Delhi I   \n",
      "\n",
      "     ZONE_NAME                Plan  Sum_Assured  Premium  Sub_Plan  \\\n",
      "154      North  Asia Standard Plan    1000000.0      0.0  Standard   \n",
      "156      North  Asia Standard Plan    1000000.0      0.0  Standard   \n",
      "337      North  Individual  Silver          0.0      0.0    Silver   \n",
      "825      South  Individual  Gold P          0.0      0.0      Gold   \n",
      "1456     North  Individual  Gold P          0.0      0.0      Gold   \n",
      "\n",
      "      Vintage_Period  \n",
      "154                6  \n",
      "156                6  \n",
      "337               21  \n",
      "825               14  \n",
      "1456              14  \n"
     ]
    }
   ],
   "source": [
    "print(Premium.nlargest(5, 'Premium'))\n",
    "print(Premium.nsmallest(5, 'Premium'))"
   ]
  },
  {
   "cell_type": "code",
   "execution_count": 25,
   "id": "034c5e5f-ff86-48f0-80bd-60c82d3912b7",
   "metadata": {},
   "outputs": [
    {
     "name": "stdout",
     "output_type": "stream",
     "text": [
      "Sum of Sum_Assured by REGION:\n",
      "REGION\n",
      "Andhra Pradesh I                8.136750e+08\n",
      "Andhra Pradesh II               2.781500e+08\n",
      "Delhi I                         1.886412e+09\n",
      "Delhi II                        2.641320e+09\n",
      "Gujarat I                       3.810417e+08\n",
      "Gujarat II                      4.332400e+08\n",
      "Haryana And Himachal Pradesh    4.069583e+08\n",
      "Karnatka                        2.359892e+09\n",
      "Kerala                          4.148100e+08\n",
      "MP And Chattishgarh             9.368000e+07\n",
      "Mumbai I                        2.167774e+09\n",
      "Mumbai II                       1.300088e+09\n",
      "Punjab And Jammu  Kashmir       9.206533e+08\n",
      "ROM and Goa                     2.057798e+09\n",
      "Rajasthan                       3.405000e+07\n",
      "Rest of East                    1.000000e+07\n",
      "Tamilnadu                       1.207567e+09\n",
      "UP AND UTRANCHAL                3.453164e+08\n",
      "West Bengal                     3.924500e+08\n",
      "Name: Sum_Assured, dtype: float64\n"
     ]
    }
   ],
   "source": [
    "# 6. Calculate the sum for variable ‘Sum_Assured’ by ‘Region’ variable\n",
    "sum_assured_by_region = Premium.groupby('REGION')['Sum_Assured'].sum()\n",
    "print(\"Sum of Sum_Assured by REGION:\")\n",
    "print(sum_assured_by_region)"
   ]
  },
  {
   "cell_type": "code",
   "execution_count": 37,
   "id": "cf0fca5e-c092-4a41-a421-212b58609091",
   "metadata": {},
   "outputs": [],
   "source": [
    "# 7. Create a subset of policies of Asia Standard Plan with Sum_Assured <= 50,000\n",
    "subset = Premium[(Premium['Plan'] == 'Asia Standard') & (Premium['Sum_Assured'] <= 50000)]\n",
    "subset = subset[['POLICY_NO', 'ZONE_NAME', 'Plan', 'Sum_Assured']]"
   ]
  },
  {
   "cell_type": "code",
   "execution_count": 39,
   "id": "320414c1-1314-4acd-9161-52d1719fbc43",
   "metadata": {},
   "outputs": [
    {
     "name": "stdout",
     "output_type": "stream",
     "text": [
      "Subset data exported successfully.\n"
     ]
    }
   ],
   "source": [
    "# 8. Export the subsetted data into an xlsx file\n",
    "subset.to_excel(\"Asia_Standard_Subset.xlsx\", index=False)\n",
    "print(\"Subset data exported successfully.\")\n"
   ]
  },
  {
   "cell_type": "code",
   "execution_count": null,
   "id": "39616ff6-18b1-4d75-9598-d9e984d96ea7",
   "metadata": {},
   "outputs": [],
   "source": []
  }
 ],
 "metadata": {
  "kernelspec": {
   "display_name": "Python [conda env:base] *",
   "language": "python",
   "name": "conda-base-py"
  },
  "language_info": {
   "codemirror_mode": {
    "name": "ipython",
    "version": 3
   },
   "file_extension": ".py",
   "mimetype": "text/x-python",
   "name": "python",
   "nbconvert_exporter": "python",
   "pygments_lexer": "ipython3",
   "version": "3.12.7"
  }
 },
 "nbformat": 4,
 "nbformat_minor": 5
}
