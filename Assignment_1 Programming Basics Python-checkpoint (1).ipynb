{
 "cells": [
  {
   "cell_type": "code",
   "execution_count": 8,
   "id": "91195b83-6481-4b61-826e-676df193c341",
   "metadata": {},
   "outputs": [
    {
     "name": "stdout",
     "output_type": "stream",
     "text": [
      "   Q  W   E  R\n",
      "A  3  3   4  5\n",
      "B  5  5   8  9\n",
      "C  5  1  10  9\n"
     ]
    }
   ],
   "source": [
    "import numpy as np\n",
    "import pandas as pd\n",
    "\n",
    "# Creating a 3x4 matrix with random numbers between 1 and 10\n",
    "matrix = pd.DataFrame(np.random.randint(1, 11, size=(3, 4)), \n",
    "                      index=['A', 'B', 'C'], \n",
    "                      columns=['Q', 'W', 'E', 'R'])\n",
    "print(matrix)"
   ]
  },
  {
   "cell_type": "code",
   "execution_count": 10,
   "id": "0466f1bc-80fd-48cd-902b-9e2ff188dfdf",
   "metadata": {},
   "outputs": [
    {
     "name": "stdout",
     "output_type": "stream",
     "text": [
      "<class 'int'>\n",
      "<class 'str'>\n",
      "<class 'float'>\n",
      "[24]\n",
      "Categories (1, int64): [24] ['Hello World']\n",
      "Categories (1, object): ['Hello World'] [93.65]\n",
      "Categories (1, float64): [93.65]\n"
     ]
    }
   ],
   "source": [
    "x = 24\n",
    "y = \"Hello World\"\n",
    "z = 93.65\n",
    "\n",
    "print(type(x))  # int\n",
    "print(type(y))  # str\n",
    "print(type(z))  # float\n",
    "\n",
    "# Convert to categorical (factor equivalent in R)\n",
    "x_cat = pd.Categorical([x])\n",
    "y_cat = pd.Categorical([y])\n",
    "z_cat = pd.Categorical([z])\n",
    "\n",
    "print(x_cat, y_cat, z_cat)"
   ]
  },
  {
   "cell_type": "code",
   "execution_count": 12,
   "id": "02c32ac3-a715-4b9f-a411-d50109b76289",
   "metadata": {},
   "outputs": [
    {
     "name": "stdout",
     "output_type": "stream",
     "text": [
      "8.123\n",
      "True\n"
     ]
    }
   ],
   "source": [
    "import math\n",
    "\n",
    "q = 65.9836\n",
    "\n",
    "# a) Find square root of q and round it up to 3 digits\n",
    "sqrt_q = round(math.sqrt(q), 3)\n",
    "print(sqrt_q)\n",
    "\n",
    "# b) Check if log base 10 of q is less than 2\n",
    "log_q = math.log10(q) < 2\n",
    "print(log_q)"
   ]
  },
  {
   "cell_type": "code",
   "execution_count": 14,
   "id": "bc5a9570-78be-416d-a98e-177c6d996bcf",
   "metadata": {},
   "outputs": [
    {
     "name": "stdout",
     "output_type": "stream",
     "text": [
      "['Inte', 'Know', 'Wisd', 'Comp']\n"
     ]
    }
   ],
   "source": [
    "x = [\"Intelligence\", \"Knowledge\", \"Wisdom\", \"Comprehension\"]\n",
    "first_4_letters = [word[:4] for word in x]\n",
    "print(first_4_letters)"
   ]
  },
  {
   "cell_type": "code",
   "execution_count": 16,
   "id": "e56d4e36-1d06-4582-ba1d-b27bc1614e1e",
   "metadata": {},
   "outputs": [
    {
     "name": "stdout",
     "output_type": "stream",
     "text": [
      "I am intelligent\n"
     ]
    }
   ],
   "source": [
    "y = \"I am\"\n",
    "z = \"intelligent\"\n",
    "\n",
    "sentence = f\"{y} {z}\"\n",
    "print(sentence)"
   ]
  },
  {
   "cell_type": "code",
   "execution_count": 18,
   "id": "e163d921-2b57-4857-8c42-0060801ad8bf",
   "metadata": {},
   "outputs": [
    {
     "name": "stdout",
     "output_type": "stream",
     "text": [
      "['INTELLIGENCE', 'KNOWLEDGE', 'WISDOM', 'COMPREHENSION']\n"
     ]
    }
   ],
   "source": [
    "x_upper = [word.upper() for word in x]\n",
    "print(x_upper)"
   ]
  },
  {
   "cell_type": "code",
   "execution_count": 20,
   "id": "232b74a3-40d2-4dd7-a382-d2cc4773a98f",
   "metadata": {},
   "outputs": [
    {
     "name": "stdout",
     "output_type": "stream",
     "text": [
      "['Yes', 'No', 'No', 'No', 'Yes', 'No', 'Yes', 'No', 'No']\n"
     ]
    }
   ],
   "source": [
    "a = [3, 4, 14, 17, 3, 98, 66, 85, 44]\n",
    "result = [\"Yes\" if num % 3 == 0 else \"No\" for num in a]\n",
    "print(result)"
   ]
  },
  {
   "cell_type": "code",
   "execution_count": 22,
   "id": "a3609bf8-4882-4e22-824d-8ae1e0627c74",
   "metadata": {},
   "outputs": [
    {
     "name": "stdout",
     "output_type": "stream",
     "text": [
      "3\n",
      "5\n",
      "19\n",
      "2\n",
      "16\n",
      "18\n",
      "28\n"
     ]
    }
   ],
   "source": [
    "b = [36, 3, 5, 19, 2, 16, 18, 41, 35, 28, 30, 31]\n",
    "\n",
    "for num in b:\n",
    "    if num < 30:\n",
    "        print(num)"
   ]
  },
  {
   "cell_type": "code",
   "execution_count": 24,
   "id": "483bffcf-5c73-438f-8170-4c41aa7fae89",
   "metadata": {},
   "outputs": [
    {
     "name": "stdout",
     "output_type": "stream",
     "text": [
      "2018-01-30\n"
     ]
    }
   ],
   "source": [
    "from datetime import datetime\n",
    "\n",
    "Date = \"01/30/18\"\n",
    "Date_new = datetime.strptime(Date, \"%m/%d/%y\").strftime(\"%Y-%m-%d\")\n",
    "print(Date_new)"
   ]
  },
  {
   "cell_type": "code",
   "execution_count": 26,
   "id": "d34f13a2-8dd3-4fa2-a4f2-be2064a79e37",
   "metadata": {},
   "outputs": [
    {
     "name": "stdout",
     "output_type": "stream",
     "text": [
      "Tuesday January\n"
     ]
    }
   ],
   "source": [
    "Date_obj = datetime.strptime(Date_new, \"%Y-%m-%d\")\n",
    "day_of_week = Date_obj.strftime(\"%A\")  # Full weekday name\n",
    "month_name = Date_obj.strftime(\"%B\")   # Full month name\n",
    "\n",
    "print(day_of_week, month_name)"
   ]
  },
  {
   "cell_type": "code",
   "execution_count": 28,
   "id": "d646bac8-b4e8-40e0-a8e4-4433a02fc396",
   "metadata": {},
   "outputs": [
    {
     "name": "stdout",
     "output_type": "stream",
     "text": [
      "2583 days difference\n"
     ]
    }
   ],
   "source": [
    "current_date = datetime.today()\n",
    "date_difference = (current_date - Date_obj).days\n",
    "print(date_difference, \"days difference\")"
   ]
  },
  {
   "cell_type": "code",
   "execution_count": null,
   "id": "c136aae6-7629-492c-8744-ff7373a274a1",
   "metadata": {},
   "outputs": [],
   "source": []
  }
 ],
 "metadata": {
  "kernelspec": {
   "display_name": "Python [conda env:base] *",
   "language": "python",
   "name": "conda-base-py"
  },
  "language_info": {
   "codemirror_mode": {
    "name": "ipython",
    "version": 3
   },
   "file_extension": ".py",
   "mimetype": "text/x-python",
   "name": "python",
   "nbconvert_exporter": "python",
   "pygments_lexer": "ipython3",
   "version": "3.12.7"
  }
 },
 "nbformat": 4,
 "nbformat_minor": 5
}
